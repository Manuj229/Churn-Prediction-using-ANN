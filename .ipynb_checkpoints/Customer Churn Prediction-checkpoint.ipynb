{
 "cells": [
  {
   "cell_type": "markdown",
   "metadata": {},
   "source": [
    "# Customer Churn Prediction "
   ]
  },
  {
   "cell_type": "markdown",
   "metadata": {},
   "source": [
    "## Importing Libraries"
   ]
  },
  {
   "cell_type": "code",
   "execution_count": 15,
   "metadata": {},
   "outputs": [
    {
     "name": "stderr",
     "output_type": "stream",
     "text": [
      "c:\\users\\svman\\appdata\\local\\programs\\python\\python37\\lib\\importlib\\_bootstrap.py:219: RuntimeWarning: numpy.ufunc size changed, may indicate binary incompatibility. Expected 192 from C header, got 216 from PyObject\n",
      "  return f(*args, **kwds)\n"
     ]
    }
   ],
   "source": [
    "import numpy as np\n",
    "import pandas as pd\n",
    "import tensorflow as tf"
   ]
  },
  {
   "cell_type": "markdown",
   "metadata": {},
   "source": [
    "## Importing Dataset"
   ]
  },
  {
   "cell_type": "code",
   "execution_count": 3,
   "metadata": {},
   "outputs": [],
   "source": [
    "dataset = pd.read_csv('Churn_Modelling.csv')\n",
    "X = dataset.iloc[:, 3:-1].values\n",
    "y = dataset.iloc[:, -1].values"
   ]
  },
  {
   "cell_type": "code",
   "execution_count": 35,
   "metadata": {},
   "outputs": [
    {
     "data": {
      "text/html": [
       "<div>\n",
       "<style scoped>\n",
       "    .dataframe tbody tr th:only-of-type {\n",
       "        vertical-align: middle;\n",
       "    }\n",
       "\n",
       "    .dataframe tbody tr th {\n",
       "        vertical-align: top;\n",
       "    }\n",
       "\n",
       "    .dataframe thead th {\n",
       "        text-align: right;\n",
       "    }\n",
       "</style>\n",
       "<table border=\"1\" class=\"dataframe\">\n",
       "  <thead>\n",
       "    <tr style=\"text-align: right;\">\n",
       "      <th></th>\n",
       "      <th>RowNumber</th>\n",
       "      <th>CustomerId</th>\n",
       "      <th>Surname</th>\n",
       "      <th>CreditScore</th>\n",
       "      <th>Geography</th>\n",
       "      <th>Gender</th>\n",
       "      <th>Age</th>\n",
       "      <th>Tenure</th>\n",
       "      <th>Balance</th>\n",
       "      <th>NumOfProducts</th>\n",
       "      <th>HasCrCard</th>\n",
       "      <th>IsActiveMember</th>\n",
       "      <th>EstimatedSalary</th>\n",
       "      <th>Exited</th>\n",
       "    </tr>\n",
       "  </thead>\n",
       "  <tbody>\n",
       "    <tr>\n",
       "      <th>0</th>\n",
       "      <td>1</td>\n",
       "      <td>15634602</td>\n",
       "      <td>Hargrave</td>\n",
       "      <td>619</td>\n",
       "      <td>France</td>\n",
       "      <td>Female</td>\n",
       "      <td>42</td>\n",
       "      <td>2</td>\n",
       "      <td>0.00</td>\n",
       "      <td>1</td>\n",
       "      <td>1</td>\n",
       "      <td>1</td>\n",
       "      <td>101348.88</td>\n",
       "      <td>1</td>\n",
       "    </tr>\n",
       "    <tr>\n",
       "      <th>1</th>\n",
       "      <td>2</td>\n",
       "      <td>15647311</td>\n",
       "      <td>Hill</td>\n",
       "      <td>608</td>\n",
       "      <td>Spain</td>\n",
       "      <td>Female</td>\n",
       "      <td>41</td>\n",
       "      <td>1</td>\n",
       "      <td>83807.86</td>\n",
       "      <td>1</td>\n",
       "      <td>0</td>\n",
       "      <td>1</td>\n",
       "      <td>112542.58</td>\n",
       "      <td>0</td>\n",
       "    </tr>\n",
       "    <tr>\n",
       "      <th>2</th>\n",
       "      <td>3</td>\n",
       "      <td>15619304</td>\n",
       "      <td>Onio</td>\n",
       "      <td>502</td>\n",
       "      <td>France</td>\n",
       "      <td>Female</td>\n",
       "      <td>42</td>\n",
       "      <td>8</td>\n",
       "      <td>159660.80</td>\n",
       "      <td>3</td>\n",
       "      <td>1</td>\n",
       "      <td>0</td>\n",
       "      <td>113931.57</td>\n",
       "      <td>1</td>\n",
       "    </tr>\n",
       "    <tr>\n",
       "      <th>3</th>\n",
       "      <td>4</td>\n",
       "      <td>15701354</td>\n",
       "      <td>Boni</td>\n",
       "      <td>699</td>\n",
       "      <td>France</td>\n",
       "      <td>Female</td>\n",
       "      <td>39</td>\n",
       "      <td>1</td>\n",
       "      <td>0.00</td>\n",
       "      <td>2</td>\n",
       "      <td>0</td>\n",
       "      <td>0</td>\n",
       "      <td>93826.63</td>\n",
       "      <td>0</td>\n",
       "    </tr>\n",
       "    <tr>\n",
       "      <th>4</th>\n",
       "      <td>5</td>\n",
       "      <td>15737888</td>\n",
       "      <td>Mitchell</td>\n",
       "      <td>850</td>\n",
       "      <td>Spain</td>\n",
       "      <td>Female</td>\n",
       "      <td>43</td>\n",
       "      <td>2</td>\n",
       "      <td>125510.82</td>\n",
       "      <td>1</td>\n",
       "      <td>1</td>\n",
       "      <td>1</td>\n",
       "      <td>79084.10</td>\n",
       "      <td>0</td>\n",
       "    </tr>\n",
       "  </tbody>\n",
       "</table>\n",
       "</div>"
      ],
      "text/plain": [
       "   RowNumber  CustomerId   Surname  CreditScore Geography  Gender  Age  \\\n",
       "0          1    15634602  Hargrave          619    France  Female   42   \n",
       "1          2    15647311      Hill          608     Spain  Female   41   \n",
       "2          3    15619304      Onio          502    France  Female   42   \n",
       "3          4    15701354      Boni          699    France  Female   39   \n",
       "4          5    15737888  Mitchell          850     Spain  Female   43   \n",
       "\n",
       "   Tenure    Balance  NumOfProducts  HasCrCard  IsActiveMember  \\\n",
       "0       2       0.00              1          1               1   \n",
       "1       1   83807.86              1          0               1   \n",
       "2       8  159660.80              3          1               0   \n",
       "3       1       0.00              2          0               0   \n",
       "4       2  125510.82              1          1               1   \n",
       "\n",
       "   EstimatedSalary  Exited  \n",
       "0        101348.88       1  \n",
       "1        112542.58       0  \n",
       "2        113931.57       1  \n",
       "3         93826.63       0  \n",
       "4         79084.10       0  "
      ]
     },
     "execution_count": 35,
     "metadata": {},
     "output_type": "execute_result"
    }
   ],
   "source": [
    "dataset.head()"
   ]
  },
  {
   "cell_type": "markdown",
   "metadata": {},
   "source": [
    "## Data Preprocessing"
   ]
  },
  {
   "cell_type": "code",
   "execution_count": 11,
   "metadata": {},
   "outputs": [
    {
     "name": "stdout",
     "output_type": "stream",
     "text": [
      "[[619 'France' 0 ... 1 1 101348.88]\n",
      " [608 'Spain' 0 ... 0 1 112542.58]\n",
      " [502 'France' 0 ... 1 0 113931.57]\n",
      " ...\n",
      " [709 'France' 0 ... 0 1 42085.58]\n",
      " [772 'Germany' 1 ... 1 0 92888.52]\n",
      " [792 'France' 0 ... 1 0 38190.78]]\n"
     ]
    }
   ],
   "source": [
    "# The Gender coloumn\n",
    "from sklearn.preprocessing import LabelEncoder\n",
    "le = LabelEncoder()\n",
    "X[:, 2] = le.fit_transform(X[:, 2])"
   ]
  },
  {
   "cell_type": "code",
   "execution_count": 12,
   "metadata": {},
   "outputs": [],
   "source": [
    "# The Geography coloumn\n",
    "from sklearn.compose import ColumnTransformer\n",
    "from sklearn.preprocessing import OneHotEncoder\n",
    "ct = ColumnTransformer(transformers=[('encoder', OneHotEncoder(), [1])], remainder='passthrough')\n",
    "X = np.array(ct.fit_transform(X))"
   ]
  },
  {
   "cell_type": "code",
   "execution_count": 13,
   "metadata": {},
   "outputs": [
    {
     "name": "stdout",
     "output_type": "stream",
     "text": [
      "[[1.0 0.0 0.0 ... 1 1 101348.88]\n",
      " [0.0 0.0 1.0 ... 0 1 112542.58]\n",
      " [1.0 0.0 0.0 ... 1 0 113931.57]\n",
      " ...\n",
      " [1.0 0.0 0.0 ... 0 1 42085.58]\n",
      " [0.0 1.0 0.0 ... 1 0 92888.52]\n",
      " [1.0 0.0 0.0 ... 1 0 38190.78]]\n"
     ]
    }
   ],
   "source": [
    "print(X)"
   ]
  },
  {
   "cell_type": "code",
   "execution_count": 14,
   "metadata": {},
   "outputs": [],
   "source": [
    "#splitting the datasets\n",
    "from sklearn.model_selection import train_test_split\n",
    "X_train, X_test, y_train, y_test = train_test_split(X, y, test_size = 0.2, random_state = 0)"
   ]
  },
  {
   "cell_type": "code",
   "execution_count": 18,
   "metadata": {},
   "outputs": [],
   "source": [
    "#feature scaling\n",
    "from sklearn.preprocessing import StandardScaler\n",
    "sc = StandardScaler()\n",
    "X_train = sc.fit_transform(X_train)\n",
    "X_test = sc.transform(X_test)"
   ]
  },
  {
   "cell_type": "markdown",
   "metadata": {},
   "source": [
    "## Building ANN"
   ]
  },
  {
   "cell_type": "code",
   "execution_count": 20,
   "metadata": {},
   "outputs": [],
   "source": [
    "ann = tf.keras.models.Sequential()"
   ]
  },
  {
   "cell_type": "code",
   "execution_count": 21,
   "metadata": {},
   "outputs": [],
   "source": [
    "ann.add(tf.keras.layers.Dense(units = 6, activation = 'relu'))"
   ]
  },
  {
   "cell_type": "code",
   "execution_count": 23,
   "metadata": {},
   "outputs": [],
   "source": [
    "ann.add(tf.keras.layers.Dense(units = 6, activation = 'relu'))"
   ]
  },
  {
   "cell_type": "code",
   "execution_count": 25,
   "metadata": {},
   "outputs": [],
   "source": [
    "ann.add(tf.keras.layers.Dense(units = 1, activation = 'sigmoid'))\n",
    "\n",
    "# Units is kept 1 because the classification is binary"
   ]
  },
  {
   "cell_type": "markdown",
   "metadata": {},
   "source": [
    "## Training the ANN"
   ]
  },
  {
   "cell_type": "code",
   "execution_count": 26,
   "metadata": {},
   "outputs": [],
   "source": [
    "ann.compile(optimizer='adam', loss='binary_crossentropy', metrics= ['accuracy'])\n",
    "\n",
    "#adam can do stochastic GD\n",
    "# for non binary classification use categorical_crossentropy\n",
    "# activation must be softmax in non binary classification\n"
   ]
  },
  {
   "cell_type": "code",
   "execution_count": 27,
   "metadata": {},
   "outputs": [
    {
     "name": "stdout",
     "output_type": "stream",
     "text": [
      "Epoch 1/100\n",
      "250/250 [==============================] - 1s 648us/step - loss: 0.6301 - accuracy: 0.7957\n",
      "Epoch 2/100\n",
      "250/250 [==============================] - 0s 736us/step - loss: 0.5407 - accuracy: 0.7928\n",
      "Epoch 3/100\n",
      "250/250 [==============================] - 0s 788us/step - loss: 0.4991 - accuracy: 0.7999\n",
      "Epoch 4/100\n",
      "250/250 [==============================] - 0s 716us/step - loss: 0.4818 - accuracy: 0.7918\n",
      "Epoch 5/100\n",
      "250/250 [==============================] - 0s 798us/step - loss: 0.4698 - accuracy: 0.7896\n",
      "Epoch 6/100\n",
      "250/250 [==============================] - 0s 679us/step - loss: 0.4437 - accuracy: 0.7985\n",
      "Epoch 7/100\n",
      "250/250 [==============================] - 0s 755us/step - loss: 0.4443 - accuracy: 0.7917\n",
      "Epoch 8/100\n",
      "250/250 [==============================] - 0s 677us/step - loss: 0.4350 - accuracy: 0.7888\n",
      "Epoch 9/100\n",
      "250/250 [==============================] - 0s 694us/step - loss: 0.4198 - accuracy: 0.7971\n",
      "Epoch 10/100\n",
      "250/250 [==============================] - 0s 718us/step - loss: 0.4171 - accuracy: 0.7980\n",
      "Epoch 11/100\n",
      "250/250 [==============================] - 0s 798us/step - loss: 0.4199 - accuracy: 0.7865\n",
      "Epoch 12/100\n",
      "250/250 [==============================] - 0s 808us/step - loss: 0.3961 - accuracy: 0.8079\n",
      "Epoch 13/100\n",
      "250/250 [==============================] - 0s 726us/step - loss: 0.4100 - accuracy: 0.7977\n",
      "Epoch 14/100\n",
      "250/250 [==============================] - 0s 679us/step - loss: 0.4001 - accuracy: 0.7981\n",
      "Epoch 15/100\n",
      "250/250 [==============================] - 0s 680us/step - loss: 0.4039 - accuracy: 0.7917\n",
      "Epoch 16/100\n",
      "250/250 [==============================] - 0s 722us/step - loss: 0.3973 - accuracy: 0.7949\n",
      "Epoch 17/100\n",
      "250/250 [==============================] - 0s 678us/step - loss: 0.3985 - accuracy: 0.7919\n",
      "Epoch 18/100\n",
      "250/250 [==============================] - 0s 681us/step - loss: 0.3937 - accuracy: 0.7968\n",
      "Epoch 19/100\n",
      "250/250 [==============================] - 0s 711us/step - loss: 0.3860 - accuracy: 0.8001\n",
      "Epoch 20/100\n",
      "250/250 [==============================] - 0s 662us/step - loss: 0.4012 - accuracy: 0.7860\n",
      "Epoch 21/100\n",
      "250/250 [==============================] - 0s 644us/step - loss: 0.3871 - accuracy: 0.7972\n",
      "Epoch 22/100\n",
      "250/250 [==============================] - 0s 686us/step - loss: 0.3815 - accuracy: 0.7974\n",
      "Epoch 23/100\n",
      "250/250 [==============================] - 0s 726us/step - loss: 0.3889 - accuracy: 0.7966\n",
      "Epoch 24/100\n",
      "250/250 [==============================] - 0s 809us/step - loss: 0.3848 - accuracy: 0.8238\n",
      "Epoch 25/100\n",
      "250/250 [==============================] - 0s 850us/step - loss: 0.3720 - accuracy: 0.8440\n",
      "Epoch 26/100\n",
      "250/250 [==============================] - 0s 761us/step - loss: 0.3766 - accuracy: 0.8395\n",
      "Epoch 27/100\n",
      "250/250 [==============================] - 0s 734us/step - loss: 0.3833 - accuracy: 0.8360\n",
      "Epoch 28/100\n",
      "250/250 [==============================] - 0s 816us/step - loss: 0.3747 - accuracy: 0.8421\n",
      "Epoch 29/100\n",
      "250/250 [==============================] - 0s 749us/step - loss: 0.3719 - accuracy: 0.8463\n",
      "Epoch 30/100\n",
      "250/250 [==============================] - 0s 696us/step - loss: 0.3688 - accuracy: 0.8474\n",
      "Epoch 31/100\n",
      "250/250 [==============================] - 0s 922us/step - loss: 0.3769 - accuracy: 0.8435\n",
      "Epoch 32/100\n",
      "250/250 [==============================] - 0s 810us/step - loss: 0.3699 - accuracy: 0.8487\n",
      "Epoch 33/100\n",
      "250/250 [==============================] - 0s 672us/step - loss: 0.3744 - accuracy: 0.8400\n",
      "Epoch 34/100\n",
      "250/250 [==============================] - 0s 709us/step - loss: 0.3730 - accuracy: 0.8485\n",
      "Epoch 35/100\n",
      "250/250 [==============================] - 0s 717us/step - loss: 0.3666 - accuracy: 0.8449\n",
      "Epoch 36/100\n",
      "250/250 [==============================] - 0s 690us/step - loss: 0.3668 - accuracy: 0.8493\n",
      "Epoch 37/100\n",
      "250/250 [==============================] - 0s 702us/step - loss: 0.3638 - accuracy: 0.8495\n",
      "Epoch 38/100\n",
      "250/250 [==============================] - 0s 682us/step - loss: 0.3693 - accuracy: 0.8522\n",
      "Epoch 39/100\n",
      "250/250 [==============================] - 0s 873us/step - loss: 0.3657 - accuracy: 0.8521\n",
      "Epoch 40/100\n",
      "250/250 [==============================] - 0s 708us/step - loss: 0.3571 - accuracy: 0.8521\n",
      "Epoch 41/100\n",
      "250/250 [==============================] - 0s 673us/step - loss: 0.3589 - accuracy: 0.8584\n",
      "Epoch 42/100\n",
      "250/250 [==============================] - 0s 729us/step - loss: 0.3600 - accuracy: 0.8584\n",
      "Epoch 43/100\n",
      "250/250 [==============================] - 0s 714us/step - loss: 0.3640 - accuracy: 0.8548\n",
      "Epoch 44/100\n",
      "250/250 [==============================] - 0s 715us/step - loss: 0.3589 - accuracy: 0.8586\n",
      "Epoch 45/100\n",
      "250/250 [==============================] - 0s 732us/step - loss: 0.3542 - accuracy: 0.8578\n",
      "Epoch 46/100\n",
      "250/250 [==============================] - 0s 706us/step - loss: 0.3711 - accuracy: 0.8478\n",
      "Epoch 47/100\n",
      "250/250 [==============================] - 0s 674us/step - loss: 0.3641 - accuracy: 0.8564\n",
      "Epoch 48/100\n",
      "250/250 [==============================] - 0s 704us/step - loss: 0.3534 - accuracy: 0.8575\n",
      "Epoch 49/100\n",
      "250/250 [==============================] - 0s 696us/step - loss: 0.3577 - accuracy: 0.8585\n",
      "Epoch 50/100\n",
      "250/250 [==============================] - 0s 729us/step - loss: 0.3559 - accuracy: 0.8568\n",
      "Epoch 51/100\n",
      "250/250 [==============================] - 0s 806us/step - loss: 0.3615 - accuracy: 0.8560\n",
      "Epoch 52/100\n",
      "250/250 [==============================] - 0s 693us/step - loss: 0.3578 - accuracy: 0.8583\n",
      "Epoch 53/100\n",
      "250/250 [==============================] - 0s 695us/step - loss: 0.3600 - accuracy: 0.8532\n",
      "Epoch 54/100\n",
      "250/250 [==============================] - 0s 688us/step - loss: 0.3499 - accuracy: 0.8607\n",
      "Epoch 55/100\n",
      "250/250 [==============================] - 0s 711us/step - loss: 0.3497 - accuracy: 0.8616\n",
      "Epoch 56/100\n",
      "250/250 [==============================] - 0s 746us/step - loss: 0.3481 - accuracy: 0.8617\n",
      "Epoch 57/100\n",
      "250/250 [==============================] - 0s 702us/step - loss: 0.3497 - accuracy: 0.8614\n",
      "Epoch 58/100\n",
      "250/250 [==============================] - 0s 701us/step - loss: 0.3490 - accuracy: 0.8677\n",
      "Epoch 59/100\n",
      "250/250 [==============================] - 0s 700us/step - loss: 0.3537 - accuracy: 0.8613\n",
      "Epoch 60/100\n",
      "250/250 [==============================] - 0s 667us/step - loss: 0.3529 - accuracy: 0.8563\n",
      "Epoch 61/100\n",
      "250/250 [==============================] - 0s 688us/step - loss: 0.3521 - accuracy: 0.8569\n",
      "Epoch 62/100\n",
      "250/250 [==============================] - 0s 778us/step - loss: 0.3405 - accuracy: 0.8685\n",
      "Epoch 63/100\n",
      "250/250 [==============================] - 0s 828us/step - loss: 0.3624 - accuracy: 0.8514\n",
      "Epoch 64/100\n",
      "250/250 [==============================] - 0s 843us/step - loss: 0.3479 - accuracy: 0.8594\n",
      "Epoch 65/100\n",
      "250/250 [==============================] - 0s 878us/step - loss: 0.3457 - accuracy: 0.8634\n",
      "Epoch 66/100\n",
      "250/250 [==============================] - 0s 830us/step - loss: 0.3497 - accuracy: 0.8597\n",
      "Epoch 67/100\n",
      "250/250 [==============================] - 0s 841us/step - loss: 0.3392 - accuracy: 0.8633\n",
      "Epoch 68/100\n",
      "250/250 [==============================] - 0s 797us/step - loss: 0.3442 - accuracy: 0.8586\n",
      "Epoch 69/100\n",
      "250/250 [==============================] - 0s 736us/step - loss: 0.3556 - accuracy: 0.8542\n",
      "Epoch 70/100\n",
      "250/250 [==============================] - 0s 820us/step - loss: 0.3490 - accuracy: 0.8619\n",
      "Epoch 71/100\n",
      "250/250 [==============================] - 0s 802us/step - loss: 0.3472 - accuracy: 0.8602\n",
      "Epoch 72/100\n",
      "250/250 [==============================] - 0s 794us/step - loss: 0.3441 - accuracy: 0.8593\n",
      "Epoch 73/100\n",
      "250/250 [==============================] - 0s 816us/step - loss: 0.3451 - accuracy: 0.8642\n",
      "Epoch 74/100\n",
      "250/250 [==============================] - 0s 873us/step - loss: 0.3416 - accuracy: 0.8672\n",
      "Epoch 75/100\n",
      "250/250 [==============================] - 0s 837us/step - loss: 0.3534 - accuracy: 0.8559\n",
      "Epoch 76/100\n",
      "250/250 [==============================] - 0s 845us/step - loss: 0.3392 - accuracy: 0.8640\n",
      "Epoch 77/100\n",
      "250/250 [==============================] - 0s 818us/step - loss: 0.3470 - accuracy: 0.8628\n",
      "Epoch 78/100\n",
      "250/250 [==============================] - 0s 692us/step - loss: 0.3426 - accuracy: 0.8622\n",
      "Epoch 79/100\n"
     ]
    },
    {
     "name": "stdout",
     "output_type": "stream",
     "text": [
      "250/250 [==============================] - 0s 663us/step - loss: 0.3530 - accuracy: 0.8583\n",
      "Epoch 80/100\n",
      "250/250 [==============================] - 0s 688us/step - loss: 0.3393 - accuracy: 0.8634\n",
      "Epoch 81/100\n",
      "250/250 [==============================] - 0s 769us/step - loss: 0.3497 - accuracy: 0.8586\n",
      "Epoch 82/100\n",
      "250/250 [==============================] - 0s 868us/step - loss: 0.3428 - accuracy: 0.8587\n",
      "Epoch 83/100\n",
      "250/250 [==============================] - 0s 899us/step - loss: 0.3385 - accuracy: 0.8675\n",
      "Epoch 84/100\n",
      "250/250 [==============================] - 0s 845us/step - loss: 0.3460 - accuracy: 0.8594\n",
      "Epoch 85/100\n",
      "250/250 [==============================] - 0s 860us/step - loss: 0.3506 - accuracy: 0.8554\n",
      "Epoch 86/100\n",
      "250/250 [==============================] - 0s 860us/step - loss: 0.3403 - accuracy: 0.8674\n",
      "Epoch 87/100\n",
      "250/250 [==============================] - 0s 825us/step - loss: 0.3440 - accuracy: 0.8680\n",
      "Epoch 88/100\n",
      "250/250 [==============================] - 0s 851us/step - loss: 0.3292 - accuracy: 0.8641\n",
      "Epoch 89/100\n",
      "250/250 [==============================] - 0s 732us/step - loss: 0.3336 - accuracy: 0.8691\n",
      "Epoch 90/100\n",
      "250/250 [==============================] - 0s 744us/step - loss: 0.3371 - accuracy: 0.8589\n",
      "Epoch 91/100\n",
      "250/250 [==============================] - 0s 870us/step - loss: 0.3313 - accuracy: 0.8647\n",
      "Epoch 92/100\n",
      "250/250 [==============================] - 0s 809us/step - loss: 0.3284 - accuracy: 0.8683\n",
      "Epoch 93/100\n",
      "250/250 [==============================] - 0s 798us/step - loss: 0.3339 - accuracy: 0.8643\n",
      "Epoch 94/100\n",
      "250/250 [==============================] - 0s 755us/step - loss: 0.3297 - accuracy: 0.8705\n",
      "Epoch 95/100\n",
      "250/250 [==============================] - 0s 1ms/step - loss: 0.3331 - accuracy: 0.8625\n",
      "Epoch 96/100\n",
      "250/250 [==============================] - 0s 888us/step - loss: 0.3417 - accuracy: 0.8630\n",
      "Epoch 97/100\n",
      "250/250 [==============================] - 0s 1ms/step - loss: 0.3233 - accuracy: 0.8685\n",
      "Epoch 98/100\n",
      "250/250 [==============================] - 0s 942us/step - loss: 0.3366 - accuracy: 0.8681\n",
      "Epoch 99/100\n",
      "250/250 [==============================] - 0s 724us/step - loss: 0.3351 - accuracy: 0.8672\n",
      "Epoch 100/100\n",
      "250/250 [==============================] - 0s 736us/step - loss: 0.3337 - accuracy: 0.8710\n"
     ]
    },
    {
     "data": {
      "text/plain": [
       "<tensorflow.python.keras.callbacks.History at 0x1530dc09828>"
      ]
     },
     "execution_count": 27,
     "metadata": {},
     "output_type": "execute_result"
    }
   ],
   "source": [
    "ann.fit(X_train, y_train, batch_size= 32, epochs=100)"
   ]
  },
  {
   "cell_type": "markdown",
   "metadata": {},
   "source": [
    "## Predicting a single observation"
   ]
  },
  {
   "cell_type": "code",
   "execution_count": 29,
   "metadata": {},
   "outputs": [
    {
     "name": "stdout",
     "output_type": "stream",
     "text": [
      "[[False]]\n"
     ]
    }
   ],
   "source": [
    "print(ann.predict(sc.transform([[1,0,0,600,1,40,3,60000,2,1,1,50000]])) > 0.5)"
   ]
  },
  {
   "cell_type": "markdown",
   "metadata": {},
   "source": [
    "## Model Evaluation"
   ]
  },
  {
   "cell_type": "code",
   "execution_count": 32,
   "metadata": {},
   "outputs": [
    {
     "name": "stdout",
     "output_type": "stream",
     "text": [
      "[[0 0]\n",
      " [0 1]\n",
      " [0 0]\n",
      " ...\n",
      " [0 0]\n",
      " [0 0]\n",
      " [0 0]]\n"
     ]
    }
   ],
   "source": [
    "y_pred = ann.predict(X_test)\n",
    "y_pred = (y_pred>0.6)\n",
    "print(np.concatenate((y_pred.reshape(len(y_pred),1), y_test.reshape(len(y_test),1)),1))"
   ]
  },
  {
   "cell_type": "code",
   "execution_count": 33,
   "metadata": {},
   "outputs": [
    {
     "name": "stdout",
     "output_type": "stream",
     "text": [
      "[[1550   45]\n",
      " [ 228  177]]\n"
     ]
    },
    {
     "data": {
      "text/plain": [
       "0.8635"
      ]
     },
     "execution_count": 33,
     "metadata": {},
     "output_type": "execute_result"
    }
   ],
   "source": [
    "from sklearn.metrics import confusion_matrix, accuracy_score\n",
    "cm = confusion_matrix(y_test, y_pred)\n",
    "print(cm)\n",
    "accuracy_score(y_test, y_pred)"
   ]
  }
 ],
 "metadata": {
  "kernelspec": {
   "display_name": "Python 3",
   "language": "python",
   "name": "python3"
  },
  "language_info": {
   "codemirror_mode": {
    "name": "ipython",
    "version": 3
   },
   "file_extension": ".py",
   "mimetype": "text/x-python",
   "name": "python",
   "nbconvert_exporter": "python",
   "pygments_lexer": "ipython3",
   "version": "3.7.1"
  }
 },
 "nbformat": 4,
 "nbformat_minor": 2
}
